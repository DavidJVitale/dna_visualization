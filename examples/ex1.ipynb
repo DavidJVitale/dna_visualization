{
 "cells": [
  {
   "cell_type": "code",
   "execution_count": 1,
   "metadata": {},
   "outputs": [],
   "source": [
    "from dna_visualization import *"
   ]
  },
  {
   "cell_type": "code",
   "execution_count": 2,
   "metadata": {
    "scrolled": true
   },
   "outputs": [
    {
     "data": {
      "application/vnd.jupyter.widget-view+json": {
       "model_id": "1f152a0fd27049a6876e9c396fa716b3",
       "version_major": 2,
       "version_minor": 0
      },
      "text/plain": [
       "DNAVisualizer(seq='TAGCTAGCTACTATTCCATTACGATCGATCTGACTACTACGTCAGTCAACTTACTGCAGTCAGTCATGACGTACTGTGACTGACTGCATAC…"
      ]
     },
     "metadata": {},
     "output_type": "display_data"
    }
   ],
   "source": [
    "d = DNAVisualizer(\"TAGCTAGCTACTATTCCATTACGATCGATCTGACTACTACGTCAGTCAACTTACTGCAGTCAGTCATGACGTACTGTGACTGACTGCATACTTACGTGACTGCATG\")\n",
    "d"
   ]
  },
  {
   "cell_type": "code",
   "execution_count": 3,
   "metadata": {},
   "outputs": [
    {
     "data": {
      "application/vnd.jupyter.widget-view+json": {
       "model_id": "a3c07289d4ae41378bd4d4fcb038a394",
       "version_major": 2,
       "version_minor": 0
      },
      "text/plain": [
       "Output()"
      ]
     },
     "metadata": {},
     "output_type": "display_data"
    }
   ],
   "source": [
    "output = widgets.Output()\n",
    "display(output)\n",
    "def foo(change):\n",
    "    new_word = list(set(change[\"new\"]) - set(change[\"old\"]))[0]\n",
    "    viz_inst = change[\"owner\"]\n",
    "    with output:\n",
    "        num_times = viz_inst.seq.count(new_word)\n",
    "        print(f\"pattern '{new_word}' occurs {num_times} times.\")\n",
    "d.observe(foo, names=\"selected_words\")"
   ]
  },
  {
   "cell_type": "code",
   "execution_count": null,
   "metadata": {},
   "outputs": [],
   "source": []
  }
 ],
 "metadata": {
  "kernelspec": {
   "display_name": "Python 3",
   "language": "python",
   "name": "python3"
  },
  "language_info": {
   "codemirror_mode": {
    "name": "ipython",
    "version": 3
   },
   "file_extension": ".py",
   "mimetype": "text/x-python",
   "name": "python",
   "nbconvert_exporter": "python",
   "pygments_lexer": "ipython3",
   "version": "3.7.5"
  }
 },
 "nbformat": 4,
 "nbformat_minor": 2
}
